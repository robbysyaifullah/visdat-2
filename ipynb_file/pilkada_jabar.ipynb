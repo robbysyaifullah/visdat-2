{
 "cells": [
  {
   "cell_type": "code",
   "execution_count": 1,
   "metadata": {},
   "outputs": [],
   "source": [
    "import pandas as pd\n",
    "import numpy as np\n",
    "import seaborn as sns\n",
    "import matplotlib.pyplot as plt"
   ]
  },
  {
   "cell_type": "code",
   "execution_count": 2,
   "metadata": {},
   "outputs": [
    {
     "data": {
      "text/html": [
       "<div>\n",
       "<style scoped>\n",
       "    .dataframe tbody tr th:only-of-type {\n",
       "        vertical-align: middle;\n",
       "    }\n",
       "\n",
       "    .dataframe tbody tr th {\n",
       "        vertical-align: top;\n",
       "    }\n",
       "\n",
       "    .dataframe thead th {\n",
       "        text-align: right;\n",
       "    }\n",
       "</style>\n",
       "<table border=\"1\" class=\"dataframe\">\n",
       "  <thead>\n",
       "    <tr style=\"text-align: right;\">\n",
       "      <th></th>\n",
       "      <th>wilayah</th>\n",
       "      <th>paslon1</th>\n",
       "      <th>paslon2</th>\n",
       "      <th>paslon3</th>\n",
       "      <th>paslon4</th>\n",
       "      <th>total_sah</th>\n",
       "      <th>tidak_sah</th>\n",
       "    </tr>\n",
       "  </thead>\n",
       "  <tbody>\n",
       "    <tr>\n",
       "      <th>0</th>\n",
       "      <td>BANDUNG</td>\n",
       "      <td>743267</td>\n",
       "      <td>146873</td>\n",
       "      <td>458253</td>\n",
       "      <td>436350</td>\n",
       "      <td>1782482</td>\n",
       "      <td>28623</td>\n",
       "    </tr>\n",
       "    <tr>\n",
       "      <th>1</th>\n",
       "      <td>BANDUNG BARAT</td>\n",
       "      <td>350442</td>\n",
       "      <td>91102</td>\n",
       "      <td>220321</td>\n",
       "      <td>211393</td>\n",
       "      <td>870747</td>\n",
       "      <td>30453</td>\n",
       "    </tr>\n",
       "    <tr>\n",
       "      <th>2</th>\n",
       "      <td>BEKASI</td>\n",
       "      <td>234435</td>\n",
       "      <td>103691</td>\n",
       "      <td>486981</td>\n",
       "      <td>333129</td>\n",
       "      <td>1155956</td>\n",
       "      <td>12766</td>\n",
       "    </tr>\n",
       "    <tr>\n",
       "      <th>3</th>\n",
       "      <td>BOGOR</td>\n",
       "      <td>526453</td>\n",
       "      <td>321128</td>\n",
       "      <td>797319</td>\n",
       "      <td>589938</td>\n",
       "      <td>2229337</td>\n",
       "      <td>124577</td>\n",
       "    </tr>\n",
       "    <tr>\n",
       "      <th>4</th>\n",
       "      <td>CIAMIS</td>\n",
       "      <td>251639</td>\n",
       "      <td>126952</td>\n",
       "      <td>178741</td>\n",
       "      <td>133091</td>\n",
       "      <td>690431</td>\n",
       "      <td>31361</td>\n",
       "    </tr>\n",
       "  </tbody>\n",
       "</table>\n",
       "</div>"
      ],
      "text/plain": [
       "         wilayah  paslon1  paslon2  paslon3  paslon4  total_sah  tidak_sah\n",
       "0        BANDUNG   743267   146873   458253   436350    1782482      28623\n",
       "1  BANDUNG BARAT   350442    91102   220321   211393     870747      30453\n",
       "2         BEKASI   234435   103691   486981   333129    1155956      12766\n",
       "3          BOGOR   526453   321128   797319   589938    2229337     124577\n",
       "4         CIAMIS   251639   126952   178741   133091     690431      31361"
      ]
     },
     "execution_count": 2,
     "metadata": {},
     "output_type": "execute_result"
    }
   ],
   "source": [
    "df = pd.read_csv('../data/pilkada_jabar.csv')\n",
    "df.head()"
   ]
  },
  {
   "cell_type": "code",
   "execution_count": 3,
   "metadata": {},
   "outputs": [],
   "source": [
    "cipang = []\n",
    "ci = df[df['wilayah'] == 'CIAMIS'].reset_index(drop=True)\n",
    "pang = df[df['wilayah'] == 'PANGANDARAN'].reset_index(drop=True)\n",
    "\n",
    "cipang.append(ci['paslon1'][0] + pang['paslon1'][0])\n",
    "cipang.append(ci['paslon2'][0] + pang['paslon2'][0])\n",
    "cipang.append(ci['paslon3'][0] + pang['paslon3'][0])\n",
    "cipang.append(ci['paslon4'][0] + pang['paslon4'][0])"
   ]
  },
  {
   "cell_type": "code",
   "execution_count": 4,
   "metadata": {},
   "outputs": [
    {
     "data": {
      "text/plain": [
       "array([0.35007729, 0.22513992, 0.22931931, 0.19546348])"
      ]
     },
     "execution_count": 4,
     "metadata": {},
     "output_type": "execute_result"
    }
   ],
   "source": [
    "(cipang[0], cipang[1], cipang[2], cipang[3])/np.sum(cipang)"
   ]
  },
  {
   "cell_type": "code",
   "execution_count": 5,
   "metadata": {},
   "outputs": [
    {
     "name": "stdout",
     "output_type": "stream",
     "text": [
      "hasil di  ciamis - pangandaran  : \n"
     ]
    },
    {
     "data": {
      "image/png": "[encoded data removed]",
      "text/plain": [
       "<Figure size 576x576 with 1 Axes>"
      ]
     },
     "metadata": {},
     "output_type": "display_data"
    }
   ],
   "source": [
    "print('hasil di ', 'ciamis - pangandaran',' : ')\n",
    "GREEN = '#1fc482'\n",
    "RED = '#e54759'\n",
    "BLUE = '#4563d1'\n",
    "ORANGE = '#e5922d'\n",
    "\n",
    "labels = 'Rindu', 'Hasanah', 'Asyik', '2DM'\n",
    "colors = [GREEN, RED, ORANGE, BLUE]\n",
    "sizes = [cipang[0], cipang[1], cipang[2], cipang[3]]\n",
    "plt.figure(figsize=(8,8))\n",
    "plt.pie(sizes, labels=labels, colors=colors, autopct='%1.1f%%', startangle=90, counterclock=False)\n",
    "plt.savefig('CIAMIS-PANGANDARAN.svg')\n",
    "plt.show()\n"
   ]
  },
  {
   "cell_type": "code",
   "execution_count": null,
   "metadata": {},
   "outputs": [],
   "source": []
  },
  {
   "cell_type": "code",
   "execution_count": 6,
   "metadata": {},
   "outputs": [
    {
     "ename": "TypeError",
     "evalue": "list indices must be integers or slices, not str",
     "output_type": "error",
     "traceback": [
      "\u001b[1;31m---------------------------------------------------------------------------\u001b[0m",
      "\u001b[1;31mTypeError\u001b[0m                                 Traceback (most recent call last)",
      "\u001b[1;32m<ipython-input-6-7c4b9411f70f>\u001b[0m in \u001b[0;36m<module>\u001b[1;34m\u001b[0m\n\u001b[0;32m      1\u001b[0m \u001b[0mcipang\u001b[0m\u001b[1;33m\u001b[0m\u001b[0m\n\u001b[1;32m----> 2\u001b[1;33m \u001b[0mcipang\u001b[0m\u001b[1;33m[\u001b[0m\u001b[1;34m'persentase_paslon1'\u001b[0m\u001b[1;33m]\u001b[0m \u001b[1;33m=\u001b[0m \u001b[0mcipang\u001b[0m\u001b[1;33m[\u001b[0m\u001b[1;34m'paslon1'\u001b[0m\u001b[1;33m]\u001b[0m \u001b[1;33m/\u001b[0m \u001b[1;33m(\u001b[0m\u001b[0mcipang\u001b[0m\u001b[1;33m[\u001b[0m\u001b[1;34m'paslon1'\u001b[0m\u001b[1;33m]\u001b[0m\u001b[1;33m+\u001b[0m\u001b[0mcipang\u001b[0m\u001b[1;33m[\u001b[0m\u001b[1;34m'paslon2'\u001b[0m\u001b[1;33m]\u001b[0m\u001b[1;33m+\u001b[0m\u001b[0mcipang\u001b[0m\u001b[1;33m[\u001b[0m\u001b[1;34m'paslon3'\u001b[0m\u001b[1;33m]\u001b[0m\u001b[1;33m+\u001b[0m\u001b[0mcipang\u001b[0m\u001b[1;33m[\u001b[0m\u001b[1;34m'paslon4'\u001b[0m\u001b[1;33m]\u001b[0m\u001b[1;33m)\u001b[0m\u001b[1;33m*\u001b[0m\u001b[1;36m100\u001b[0m\u001b[1;33m\u001b[0m\u001b[0m\n\u001b[0m\u001b[0;32m      3\u001b[0m \u001b[0mcipang\u001b[0m\u001b[1;33m[\u001b[0m\u001b[1;34m'persentase_paslon2'\u001b[0m\u001b[1;33m]\u001b[0m \u001b[1;33m=\u001b[0m \u001b[0mcipang\u001b[0m\u001b[1;33m[\u001b[0m\u001b[1;34m'paslon2'\u001b[0m\u001b[1;33m]\u001b[0m \u001b[1;33m/\u001b[0m \u001b[1;33m(\u001b[0m\u001b[0mcipang\u001b[0m\u001b[1;33m[\u001b[0m\u001b[1;34m'paslon1'\u001b[0m\u001b[1;33m]\u001b[0m\u001b[1;33m+\u001b[0m\u001b[0mcipang\u001b[0m\u001b[1;33m[\u001b[0m\u001b[1;34m'paslon2'\u001b[0m\u001b[1;33m]\u001b[0m\u001b[1;33m+\u001b[0m\u001b[0mcipang\u001b[0m\u001b[1;33m[\u001b[0m\u001b[1;34m'paslon3'\u001b[0m\u001b[1;33m]\u001b[0m\u001b[1;33m+\u001b[0m\u001b[0mcipang\u001b[0m\u001b[1;33m[\u001b[0m\u001b[1;34m'paslon4'\u001b[0m\u001b[1;33m]\u001b[0m\u001b[1;33m)\u001b[0m\u001b[1;33m*\u001b[0m\u001b[1;36m100\u001b[0m\u001b[1;33m\u001b[0m\u001b[0m\n\u001b[0;32m      4\u001b[0m \u001b[0mcipang\u001b[0m\u001b[1;33m[\u001b[0m\u001b[1;34m'persentase_paslon3'\u001b[0m\u001b[1;33m]\u001b[0m \u001b[1;33m=\u001b[0m \u001b[0mcipang\u001b[0m\u001b[1;33m[\u001b[0m\u001b[1;34m'paslon3'\u001b[0m\u001b[1;33m]\u001b[0m \u001b[1;33m/\u001b[0m \u001b[1;33m(\u001b[0m\u001b[0mcipang\u001b[0m\u001b[1;33m[\u001b[0m\u001b[1;34m'paslon1'\u001b[0m\u001b[1;33m]\u001b[0m\u001b[1;33m+\u001b[0m\u001b[0mcipang\u001b[0m\u001b[1;33m[\u001b[0m\u001b[1;34m'paslon2'\u001b[0m\u001b[1;33m]\u001b[0m\u001b[1;33m+\u001b[0m\u001b[0mcipang\u001b[0m\u001b[1;33m[\u001b[0m\u001b[1;34m'paslon3'\u001b[0m\u001b[1;33m]\u001b[0m\u001b[1;33m+\u001b[0m\u001b[0mcipang\u001b[0m\u001b[1;33m[\u001b[0m\u001b[1;34m'paslon4'\u001b[0m\u001b[1;33m]\u001b[0m\u001b[1;33m)\u001b[0m\u001b[1;33m*\u001b[0m\u001b[1;36m100\u001b[0m\u001b[1;33m\u001b[0m\u001b[0m\n\u001b[0;32m      5\u001b[0m \u001b[0mcipang\u001b[0m\u001b[1;33m[\u001b[0m\u001b[1;34m'persentase_paslon4'\u001b[0m\u001b[1;33m]\u001b[0m \u001b[1;33m=\u001b[0m \u001b[0mcipang\u001b[0m\u001b[1;33m[\u001b[0m\u001b[1;34m'paslon4'\u001b[0m\u001b[1;33m]\u001b[0m \u001b[1;33m/\u001b[0m \u001b[1;33m(\u001b[0m\u001b[0mcipang\u001b[0m\u001b[1;33m[\u001b[0m\u001b[1;34m'paslon1'\u001b[0m\u001b[1;33m]\u001b[0m\u001b[1;33m+\u001b[0m\u001b[0mcipang\u001b[0m\u001b[1;33m[\u001b[0m\u001b[1;34m'paslon2'\u001b[0m\u001b[1;33m]\u001b[0m\u001b[1;33m+\u001b[0m\u001b[0mcipang\u001b[0m\u001b[1;33m[\u001b[0m\u001b[1;34m'paslon3'\u001b[0m\u001b[1;33m]\u001b[0m\u001b[1;33m+\u001b[0m\u001b[0mcipang\u001b[0m\u001b[1;33m[\u001b[0m\u001b[1;34m'paslon4'\u001b[0m\u001b[1;33m]\u001b[0m\u001b[1;33m)\u001b[0m\u001b[1;33m*\u001b[0m\u001b[1;36m100\u001b[0m\u001b[1;33m\u001b[0m\u001b[0m\n",
      "\u001b[1;31mTypeError\u001b[0m: list indices must be integers or slices, not str"
     ]
    }
   ],
   "source": [
    "cipang\n",
    "cipang['persentase_paslon1'] = cipang['paslon1'] / (cipang['paslon1']+cipang['paslon2']+cipang['paslon3']+cipang['paslon4'])*100\n",
    "cipang['persentase_paslon2'] = cipang['paslon2'] / (cipang['paslon1']+cipang['paslon2']+cipang['paslon3']+cipang['paslon4'])*100\n",
    "cipang['persentase_paslon3'] = cipang['paslon3'] / (cipang['paslon1']+cipang['paslon2']+cipang['paslon3']+cipang['paslon4'])*100\n",
    "cipang['persentase_paslon4'] = cipang['paslon4'] / (cipang['paslon1']+cipang['paslon2']+cipang['paslon3']+cipang['paslon4'])*100\n"
   ]
  },
  {
   "cell_type": "code",
   "execution_count": null,
   "metadata": {},
   "outputs": [],
   "source": [
    "df['persentase_paslon1'] = df['paslon1'] / (df['paslon1']+df['paslon2']+df['paslon3']+df['paslon4'])*100\n",
    "df['persentase_paslon2'] = df['paslon2'] / (df['paslon1']+df['paslon2']+df['paslon3']+df['paslon4'])*100\n",
    "df['persentase_paslon3'] = df['paslon3'] / (df['paslon1']+df['paslon2']+df['paslon3']+df['paslon4'])*100\n",
    "df['persentase_paslon4'] = df['paslon4'] / (df['paslon1']+df['paslon2']+df['paslon3']+df['paslon4'])*100\n",
    "\n",
    "# df['persentase_paslon1'] = round(df['persentase_paslon1'], 3)\n",
    "# df['persentase_paslon2'] = round(df['persentase_paslon2'], 3)\n",
    "# df['persentase_paslon3'] = round(df['persentase_paslon3'], 3)\n",
    "# df['persentase_paslon4'] = round(df['persentase_paslon4'], 3)"
   ]
  },
  {
   "cell_type": "code",
   "execution_count": null,
   "metadata": {},
   "outputs": [],
   "source": [
    "df.head()"
   ]
  },
  {
   "cell_type": "code",
   "execution_count": null,
   "metadata": {},
   "outputs": [],
   "source": [
    "total_1 = df['paslon1'].sum()\n",
    "total_2 = df['paslon2'].sum()\n",
    "total_3 = df['paslon3'].sum()\n",
    "total_4 = df['paslon4'].sum()\n",
    "calon = 'Rindu', 'Hasanah', 'Asyik', '2DM'\n",
    "colors = ['green', 'red', 'orange', 'yellow']\n",
    "\n",
    "sizes = [total_1, total_2, total_3, total_4]\n",
    "print('persentase calon di jawa barat secara keseluruhan')\n",
    "plt.figure(figsize=(5,5))\n",
    "plt.pie(sizes, labels=calon, colors=colors, autopct='%1.1f%%', startangle=90, counterclock=False)\n",
    "plt.show()\n"
   ]
  },
  {
   "cell_type": "code",
   "execution_count": null,
   "metadata": {},
   "outputs": [],
   "source": [
    "calon = 'Rindu', 'Hasanah', 'Asyik', '2DM'\n",
    "\n",
    "for i in range(len(df)):\n",
    "    paslon_1 = df['persentase_paslon1'][i]\n",
    "    paslon_2 = df['persentase_paslon2'][i]\n",
    "    paslon_3 = df['persentase_paslon3'][i]\n",
    "    paslon_4 = df['persentase_paslon4'][i]\n",
    "    if(max(paslon_1, paslon_2, paslon_3, paslon_4) == paslon_1):\n",
    "        print('pemenang di',df['wilayah'][i],' = ', calon[0])\n",
    "    elif(max(paslon_1, paslon_2, paslon_3, paslon_4) == paslon_2):\n",
    "        print('pemenang di',df['wilayah'][i],' = ', calon[1])\n",
    "    elif(max(paslon_1, paslon_2, paslon_3, paslon_4) == paslon_3):\n",
    "        print('pemenang di',df['wilayah'][i],' = ', calon[2])\n",
    "    elif(max(paslon_1, paslon_2, paslon_3, paslon_4) == paslon_4):\n",
    "        print('pemenang di',df['wilayah'][i],' = ', calon[3])"
   ]
  },
  {
   "cell_type": "code",
   "execution_count": null,
   "metadata": {},
   "outputs": [],
   "source": [
    "for i in range(len(df)):\n",
    "    print('hasil di ', df['wilayah'][i],' : ')\n",
    "    GREEN = '#1fc482'\n",
    "    RED = '#e54759'\n",
    "    BLUE = '#4563d1'\n",
    "    ORANGE = '#e5922d'\n",
    "    \n",
    "    labels = 'Rindu', 'Hasanah', 'Asyik', '2DM'\n",
    "    colors = [GREEN, RED, ORANGE, BLUE]\n",
    "    sizes = [df['paslon1'][i], df['paslon2'][i], df['paslon3'][i], df['paslon4'][i]]\n",
    "    plt.figure(figsize=(8,8))\n",
    "    plt.pie(sizes, labels=labels, colors=colors, autopct='%1.1f%%', startangle=90, counterclock=False)\n",
    "    plt.savefig(df['wilayah'][i]+'.svg')"
   ]
  },
  {
   "cell_type": "code",
   "execution_count": null,
   "metadata": {},
   "outputs": [],
   "source": [
    "labels = 'Python', 'C++', 'Ruby', 'Java'"
   ]
  },
  {
   "cell_type": "code",
   "execution_count": null,
   "metadata": {},
   "outputs": [],
   "source": [
    "labels[0]"
   ]
  },
  {
   "cell_type": "code",
   "execution_count": null,
   "metadata": {
    "scrolled": true
   },
   "outputs": [],
   "source": [
    "df_1 = df.sort_values(by='persentase_paslon1', ascending=False).reset_index(drop=True).head(4)"
   ]
  },
  {
   "cell_type": "code",
   "execution_count": null,
   "metadata": {
    "scrolled": true
   },
   "outputs": [],
   "source": [
    "df_2 = df.sort_values(by='persentase_paslon2', ascending=False).reset_index(drop=True).head(4)"
   ]
  },
  {
   "cell_type": "code",
   "execution_count": null,
   "metadata": {
    "scrolled": true
   },
   "outputs": [],
   "source": [
    "df_3 = df.sort_values(by='persentase_paslon3', ascending=False).reset_index(drop=True).head(4)"
   ]
  },
  {
   "cell_type": "code",
   "execution_count": null,
   "metadata": {},
   "outputs": [],
   "source": [
    "df_4 = df.sort_values(by='persentase_paslon4', ascending=False).reset_index(drop=True).head(4)"
   ]
  },
  {
   "cell_type": "code",
   "execution_count": null,
   "metadata": {},
   "outputs": [],
   "source": [
    "df_1"
   ]
  },
  {
   "cell_type": "code",
   "execution_count": null,
   "metadata": {},
   "outputs": [],
   "source": [
    "df_1['wilayah']"
   ]
  },
  {
   "cell_type": "code",
   "execution_count": null,
   "metadata": {},
   "outputs": [],
   "source": [
    "df_1['wilayah'].values"
   ]
  },
  {
   "cell_type": "code",
   "execution_count": null,
   "metadata": {},
   "outputs": [],
   "source": [
    "labels"
   ]
  },
  {
   "cell_type": "code",
   "execution_count": null,
   "metadata": {},
   "outputs": [],
   "source": [
    "hasil = df_1['persentase_paslon1']\n",
    "labels = df_1['wilayah']\n",
    "for i in range(len(labels)):\n",
    "    if(labels[i]=='KOTA BANDUNG'):\n",
    "        labels[i]='KOTA\\nBANDUNG'\n",
    "    elif(labels[i] == 'KOTA CIMAHI'):\n",
    "        labels[i] = 'KOTA\\nCIMAHI'\n",
    "    elif(labels[i] == 'INDRAMAYU'):\n",
    "        labels[i] = 'INDRA-\\nMAYU'\n",
    "fig, ax = plt.subplots(figsize=(8, 8))\n",
    "ind = np.arange(0, len(labels))\n",
    "plt.bar(ind, hasil, color=('green', 'green', 'green', 'green', 'green'), width=0.7)\n",
    "plt.xticks(ind, labels, fontsize=22)\n",
    "plt.yticks(fontsize=22)\n",
    "ax.set_ylim([0,55])\n",
    "# ax.set_xlabel('Kabupaten/Kota', fontsize='large')\n",
    "# ax.set_ylabel('Persentase Rindu', fontsize='large')\n",
    "plt.show()"
   ]
  },
  {
   "cell_type": "code",
   "execution_count": null,
   "metadata": {},
   "outputs": [],
   "source": [
    "hasil = df_2['persentase_paslon2']\n",
    "labels = df_2['wilayah']\n",
    "\n",
    "for i in range(len(labels)):\n",
    "    if(labels[i]=='PANGANDARAN'):\n",
    "        labels[i]='PANGAN-\\nDARAN'\n",
    "    elif(labels[i] == 'MAJALENGKA'):\n",
    "        labels[i] = 'MAJA-\\nLENGKA'\n",
    "\n",
    "        \n",
    "fig, ax = plt.subplots(figsize=(8, 8))\n",
    "ind = np.arange(0, len(labels))\n",
    "plt.bar(ind, hasil, color=('red', 'red', 'red', 'red', 'red'), width=0.7)\n",
    "plt.xticks(ind, labels, fontsize=22)\n",
    "plt.yticks(fontsize=22)\n",
    "ax.set_ylim([0,55])\n",
    "# ax.set_xlabel('Kabupaten/Kota', fontsize='large')\n",
    "# ax.set_ylabel('Persentase Hasanah', fontsize='large')\n",
    "plt.show()"
   ]
  },
  {
   "cell_type": "code",
   "execution_count": null,
   "metadata": {},
   "outputs": [],
   "source": [
    "hasil = df_3['persentase_paslon3']\n",
    "labels = df_3['wilayah']\n",
    "labels\n",
    "\n",
    "for i in range(len(labels)):\n",
    "    if(labels[i]=='KOTA DEPOK'):\n",
    "        labels[i]='KOTA\\nDEPOK'\n",
    "    elif(labels[i] == 'KOTA TASIKMALAYA'):\n",
    "        labels[i] = 'KOTA TASIK-\\nMALAYA'\n",
    "    elif(labels[i] == 'KOTA BEKASI'):\n",
    "        labels[i] = 'KOTA\\nBEKASI'\n",
    "    elif(labels[i] == 'BEKASI'):\n",
    "        labels[i] = 'BE-\\nKASI'\n",
    "        \n",
    "fig, ax = plt.subplots(figsize=(8, 8))\n",
    "ind = np.arange(0, len(labels))\n",
    "plt.bar(ind, hasil, color=('orange', 'orange', 'orange', 'orange', 'orange'), width=0.7)\n",
    "plt.xticks(ind, labels, fontsize=22)\n",
    "plt.yticks(fontsize=22)\n",
    "ax.set_ylim([0,55])\n",
    "# ax.set_xlabel('Kabupaten/Kota', fontsize='large')\n",
    "# ax.set_ylabel('Persentase Asyik', fontsize='large')\n",
    "plt.show()"
   ]
  },
  {
   "cell_type": "code",
   "execution_count": null,
   "metadata": {},
   "outputs": [],
   "source": [
    "labels = df_3['wilayah']\n",
    "labels"
   ]
  },
  {
   "cell_type": "code",
   "execution_count": null,
   "metadata": {},
   "outputs": [],
   "source": [
    "hasil = df_4['persentase_paslon4']\n",
    "labels = df_4['wilayah']\n",
    "labels\n",
    "\n",
    "for i in range(len(labels)):\n",
    "    if(labels[i]=='PURWAKARTA'):\n",
    "        labels[i]='PURWA-\\nKARTA'\n",
    "    elif(labels[i] == 'KARAWANG'):\n",
    "        labels[i] = 'KARA-\\nWANG'\n",
    "    elif(labels[i] == 'KOTA BANJAR'):\n",
    "        labels[i] = 'KOTA\\nBANJAR'\n",
    "        \n",
    "fig, ax = plt.subplots(figsize=(8, 8))\n",
    "ind = np.arange(0, len(labels))\n",
    "plt.bar(ind, hasil, color=('blue', 'blue', 'blue', 'blue', 'blue'), width=0.7)\n",
    "plt.xticks(ind, labels, fontsize=22)\n",
    "plt.yticks(fontsize=22)\n",
    "ax.set_ylim([0,55])\n",
    "# ax.set_xlabel('Kabupaten/Kota', fontsize='large')\n",
    "# ax.set_ylabel('Persentase 2DM', fontsize='large')\n",
    "plt.show()"
   ]
  },
  {
   "cell_type": "code",
   "execution_count": null,
   "metadata": {},
   "outputs": [],
   "source": []
  },
  {
   "cell_type": "code",
   "execution_count": null,
   "metadata": {},
   "outputs": [],
   "source": []
  }
 ],
 "metadata": {
  "kernelspec": {
   "display_name": "Python 3",
   "language": "python",
   "name": "python3"
  },
  "language_info": {
   "codemirror_mode": {
    "name": "ipython",
    "version": 3
   },
   "file_extension": ".py",
   "mimetype": "text/x-python",
   "name": "python",
   "nbconvert_exporter": "python",
   "pygments_lexer": "ipython3",
   "version": "3.6.3"
  }
 },
 "nbformat": 4,
 "nbformat_minor": 2
}
